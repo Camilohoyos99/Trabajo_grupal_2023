{
 "cells": [
  {
   "cell_type": "markdown",
   "metadata": {
    "id": "dA4IsJkX7OEH"
   },
   "source": [
    "# Taller Regresión Lineal"
   ]
  },
  {
   "cell_type": "markdown",
   "metadata": {
    "id": "JYVJraXbBZwl"
   },
   "source": [
    "## Funciones básicas"
   ]
  },
  {
   "cell_type": "markdown",
   "metadata": {
    "id": "wDK_bVfx7XOF"
   },
   "source": [
    "En primer lugar, importamos las librerías que necesitaremos"
   ]
  },
  {
   "cell_type": "code",
   "execution_count": 1,
   "metadata": {
    "id": "ltH2S66X7keC"
   },
   "outputs": [],
   "source": [
    "import pandas as pd\n",
    "import numpy as np\n",
    "from sklearn.linear_model import LinearRegression #Algoritmo de regresión lineal\n",
    "from sklearn.model_selection import train_test_split #para partir el conjunto de datos en Entrenamiento y Testeo\n",
    "import matplotlib.pyplot as plt #para gráficas\n"
   ]
  },
  {
   "cell_type": "markdown",
   "metadata": {
    "id": "eWVahlvO7zpa"
   },
   "source": [
    "Cargamos un conjunto de datos. Entrenaremos modelos de regresión lineal para un conjunto de datos sobre peces. Se desearía predecir el peso de un pez, a partir de algunas de sus medidas. Longitud vertical, diagonal, etc. Nuestra variable a predecir será el peso *Weight*.\n",
    "Detalles sobre el conjunto de datos [Aquí](https://www.kaggle.com/datasets/aungpyaeap/fish-market).\n",
    "\n",
    "Si está trabajando en colab, oprima el ícono de folder en la izquierda y luego el ícono de *subir.* Cargue un archivo de valrores separados por comas (.csv). A continuación usamos la función de pandas *read_csv*. Ingresamos como parámetro la ruta de ubicación del archivo. Si ya se ha subido el archivo, se puede desplegar el menú sobre dicho archivo y usar *copiar ruta*."
   ]
  },
  {
   "cell_type": "code",
   "execution_count": 2,
   "metadata": {
    "colab": {
     "base_uri": "https://localhost:8080/",
     "height": 363
    },
    "id": "y8DsCI278fQ-",
    "outputId": "28a3ad92-8875-46c7-eb18-5e8d2a5cf477"
   },
   "outputs": [
    {
     "data": {
      "text/html": [
       "<div>\n",
       "<style scoped>\n",
       "    .dataframe tbody tr th:only-of-type {\n",
       "        vertical-align: middle;\n",
       "    }\n",
       "\n",
       "    .dataframe tbody tr th {\n",
       "        vertical-align: top;\n",
       "    }\n",
       "\n",
       "    .dataframe thead th {\n",
       "        text-align: right;\n",
       "    }\n",
       "</style>\n",
       "<table border=\"1\" class=\"dataframe\">\n",
       "  <thead>\n",
       "    <tr style=\"text-align: right;\">\n",
       "      <th></th>\n",
       "      <th>Species</th>\n",
       "      <th>Weight</th>\n",
       "      <th>Length1</th>\n",
       "      <th>Length2</th>\n",
       "      <th>Length3</th>\n",
       "      <th>Height</th>\n",
       "      <th>Width</th>\n",
       "    </tr>\n",
       "  </thead>\n",
       "  <tbody>\n",
       "    <tr>\n",
       "      <th>0</th>\n",
       "      <td>Bream</td>\n",
       "      <td>242.0</td>\n",
       "      <td>23.2</td>\n",
       "      <td>25.4</td>\n",
       "      <td>30.0</td>\n",
       "      <td>11.5200</td>\n",
       "      <td>4.0200</td>\n",
       "    </tr>\n",
       "    <tr>\n",
       "      <th>1</th>\n",
       "      <td>Bream</td>\n",
       "      <td>290.0</td>\n",
       "      <td>24.0</td>\n",
       "      <td>26.3</td>\n",
       "      <td>31.2</td>\n",
       "      <td>12.4800</td>\n",
       "      <td>4.3056</td>\n",
       "    </tr>\n",
       "    <tr>\n",
       "      <th>2</th>\n",
       "      <td>Bream</td>\n",
       "      <td>340.0</td>\n",
       "      <td>23.9</td>\n",
       "      <td>26.5</td>\n",
       "      <td>31.1</td>\n",
       "      <td>12.3778</td>\n",
       "      <td>4.6961</td>\n",
       "    </tr>\n",
       "    <tr>\n",
       "      <th>3</th>\n",
       "      <td>Bream</td>\n",
       "      <td>363.0</td>\n",
       "      <td>26.3</td>\n",
       "      <td>29.0</td>\n",
       "      <td>33.5</td>\n",
       "      <td>12.7300</td>\n",
       "      <td>4.4555</td>\n",
       "    </tr>\n",
       "    <tr>\n",
       "      <th>4</th>\n",
       "      <td>Bream</td>\n",
       "      <td>430.0</td>\n",
       "      <td>26.5</td>\n",
       "      <td>29.0</td>\n",
       "      <td>34.0</td>\n",
       "      <td>12.4440</td>\n",
       "      <td>5.1340</td>\n",
       "    </tr>\n",
       "    <tr>\n",
       "      <th>5</th>\n",
       "      <td>Bream</td>\n",
       "      <td>450.0</td>\n",
       "      <td>26.8</td>\n",
       "      <td>29.7</td>\n",
       "      <td>34.7</td>\n",
       "      <td>13.6024</td>\n",
       "      <td>4.9274</td>\n",
       "    </tr>\n",
       "    <tr>\n",
       "      <th>6</th>\n",
       "      <td>Bream</td>\n",
       "      <td>500.0</td>\n",
       "      <td>26.8</td>\n",
       "      <td>29.7</td>\n",
       "      <td>34.5</td>\n",
       "      <td>14.1795</td>\n",
       "      <td>5.2785</td>\n",
       "    </tr>\n",
       "    <tr>\n",
       "      <th>7</th>\n",
       "      <td>Bream</td>\n",
       "      <td>390.0</td>\n",
       "      <td>27.6</td>\n",
       "      <td>30.0</td>\n",
       "      <td>35.0</td>\n",
       "      <td>12.6700</td>\n",
       "      <td>4.6900</td>\n",
       "    </tr>\n",
       "    <tr>\n",
       "      <th>8</th>\n",
       "      <td>Bream</td>\n",
       "      <td>450.0</td>\n",
       "      <td>27.6</td>\n",
       "      <td>30.0</td>\n",
       "      <td>35.1</td>\n",
       "      <td>14.0049</td>\n",
       "      <td>4.8438</td>\n",
       "    </tr>\n",
       "    <tr>\n",
       "      <th>9</th>\n",
       "      <td>Bream</td>\n",
       "      <td>500.0</td>\n",
       "      <td>28.5</td>\n",
       "      <td>30.7</td>\n",
       "      <td>36.2</td>\n",
       "      <td>14.2266</td>\n",
       "      <td>4.9594</td>\n",
       "    </tr>\n",
       "  </tbody>\n",
       "</table>\n",
       "</div>"
      ],
      "text/plain": [
       "  Species  Weight  Length1  Length2  Length3   Height   Width\n",
       "0   Bream   242.0     23.2     25.4     30.0  11.5200  4.0200\n",
       "1   Bream   290.0     24.0     26.3     31.2  12.4800  4.3056\n",
       "2   Bream   340.0     23.9     26.5     31.1  12.3778  4.6961\n",
       "3   Bream   363.0     26.3     29.0     33.5  12.7300  4.4555\n",
       "4   Bream   430.0     26.5     29.0     34.0  12.4440  5.1340\n",
       "5   Bream   450.0     26.8     29.7     34.7  13.6024  4.9274\n",
       "6   Bream   500.0     26.8     29.7     34.5  14.1795  5.2785\n",
       "7   Bream   390.0     27.6     30.0     35.0  12.6700  4.6900\n",
       "8   Bream   450.0     27.6     30.0     35.1  14.0049  4.8438\n",
       "9   Bream   500.0     28.5     30.7     36.2  14.2266  4.9594"
      ]
     },
     "execution_count": 2,
     "metadata": {},
     "output_type": "execute_result"
    }
   ],
   "source": [
    "# Leer archivo. Ingresar la ruta del archivo\n",
    "df=pd.read_csv(\"Fish (2).csv\")\n",
    "\n",
    "# Mostrar las primeras 10 líneas del dataset\n",
    "df.head(10)\n"
   ]
  },
  {
   "cell_type": "markdown",
   "metadata": {
    "id": "NPsd2fEd3Rei"
   },
   "source": [
    "Procedemos a graficar puntos con coordenadas x=Length1, y=Weight para observar si aparentan tener un comportamiento cercano al lineal.\n",
    "\n",
    "Para más detalles sobre diagramas de dispersión ver [AQUÍ](https://www.w3schools.com/python/matplotlib_scatter.asp)."
   ]
  },
  {
   "cell_type": "code",
   "execution_count": 3,
   "metadata": {
    "colab": {
     "base_uri": "https://localhost:8080/",
     "height": 539
    },
    "id": "a8l7_pmRL-cx",
    "outputId": "327f8c79-977e-4b26-8816-96e240eb5ddc"
   },
   "outputs": [
    {
     "data": {
      "text/plain": [
       "<matplotlib.collections.PathCollection at 0x20cb81d50f0>"
      ]
     },
     "execution_count": 3,
     "metadata": {},
     "output_type": "execute_result"
    },
    {
     "data": {
      "image/png": "[encoded data removed]",
      "text/plain": [
       "<Figure size 800x600 with 1 Axes>"
      ]
     },
     "metadata": {},
     "output_type": "display_data"
    }
   ],
   "source": [
    "#Graficar diagrama de dispersión para Length1 vs Weight\n",
    "plt.figure(figsize = [8, 6]) #Establecemos el tamaño de la figura\n",
    "plt.scatter(data=df, x='Length1', y='Weight', color= \"green\") #Asignamos la variable x, y y el color para el diagrama de dispersión.\n"
   ]
  },
  {
   "cell_type": "markdown",
   "metadata": {
    "id": "Ur9xkj9r6Jdi"
   },
   "source": [
    "Usaremos el algoritmo para regresión lineal de SciKit Learn. Éste recibe como datos de entrada (X) un arreglo de dos dimensones. Pero aquí tenemos un vector para cada atributo. Queremos entonces una matriz de tamaño (lo que corresponda) x 1. Ése es el significado que tiene el valor -1 en arreglos de Numpy. Siguiendo esta idea, redimensionaremos los datos de entrada X."
   ]
  },
  {
   "cell_type": "code",
   "execution_count": 4,
   "metadata": {},
   "outputs": [
    {
     "data": {
      "text/plain": [
       "0      23.2\n",
       "1      24.0\n",
       "2      23.9\n",
       "3      26.3\n",
       "4      26.5\n",
       "       ... \n",
       "154    11.5\n",
       "155    11.7\n",
       "156    12.1\n",
       "157    13.2\n",
       "158    13.8\n",
       "Name: Length1, Length: 159, dtype: float64"
      ]
     },
     "execution_count": 4,
     "metadata": {},
     "output_type": "execute_result"
    }
   ],
   "source": [
    "df['Length1']"
   ]
  },
  {
   "cell_type": "code",
   "execution_count": 111,
   "metadata": {
    "id": "5Lt0FIELP3os"
   },
   "outputs": [],
   "source": [
    "X = np.log1p(np.array(df['Length1']).reshape(-1, 1)) # debemos poner nuestros atributos X en gforma de arreglo\n",
    "y = np.log1p(df['Weight'])\n"
   ]
  },
  {
   "cell_type": "markdown",
   "metadata": {
    "id": "qSyBda_Q7wl6"
   },
   "source": [
    "Ahora usamos la función train_test_split para partir el conjunto de datos en dos subconjuntos: entrenamiento y testeo. Para ver ejemplos del uso de esta función ver [AQUÍ](https://www.geeksforgeeks.org/how-to-split-the-dataset-with-scikit-learns-train_test_split-function/).\n",
    "\n",
    "Usar sólo los parámetros X,y, test_size (Porcentaje de los datos correspondiente al conjunto de testeo). Se suelen usar proporciones al rededor de Entrenamiento 80% y Testeo 20%."
   ]
  },
  {
   "cell_type": "code",
   "execution_count": 112,
   "metadata": {
    "id": "NqjP-6yycAdR"
   },
   "outputs": [],
   "source": [
    "# Partir el conjunto de datos en Entrenamiento y Testeo\n",
    "X_train, X_test, y_train, y_test = train_test_split(X, y, test_size = 0.2)"
   ]
  },
  {
   "cell_type": "markdown",
   "metadata": {
    "id": "lAVD7H658zQV"
   },
   "source": [
    "Ahora definamos el modelo de regresión lineal. Nuestro modelo se llamará *regr*. Lo entrenaremos y mediremos su coeficiente de detrminación."
   ]
  },
  {
   "cell_type": "code",
   "execution_count": 113,
   "metadata": {
    "colab": {
     "base_uri": "https://localhost:8080/"
    },
    "id": "qRaftP9ncB6A",
    "outputId": "97ab3067-06f4-4c67-c661-4ef6cfeecbe9"
   },
   "outputs": [
    {
     "name": "stdout",
     "output_type": "stream",
     "text": [
      "score =  0.7577251912164343\n",
      "MSE =  0.09988019243249396\n"
     ]
    }
   ],
   "source": [
    "# Modelo de regresión lineal de SciKit Learn\n",
    "\n",
    "#Importar métricas          # métrica para minimizar el error de los teta1,teta2\n",
    "from sklearn.metrics import mean_squared_error, r2_score # métrica para  saber que tan bueno fue el modelo \n",
    "\n",
    "#Se define el algoritmo a usar para entrenar el modelo\n",
    "regr = LinearRegression()\n",
    "#se entrena el modelo con el dataset y etiqueta de entrenamiento\n",
    "regr.fit(X_train, y_train)\n",
    "#se calculan predicciones para el conjunto de test.\n",
    "y_pred = regr.predict(X_test)\n",
    "\n",
    "score_RL = r2_score(y_test, y_pred)\n",
    "print(\"score = \", scoreRL) #y_test cumple la función de ser mis datos verdaderos, coin el R2 quiero medir que tan \n",
    "                                            # alejados estan unos entre otros\n",
    "print(\"MSE = \",mean_squared_error(y_test, y_pred))\n",
    "# Recordemos que el MSE mide el promedio de la diferencia entre los datos y la recta que crea el modelo\n",
    "# Siempre me interesa que este error sea pequeño, pero deboi tener en cuenta que esta siempre en la escala de la variable y\n",
    "# Por  lo que se puede interpretar\n",
    "# el score si es una medida directa de verificar la eficiencia del modelo\n"
   ]
  },
  {
   "cell_type": "markdown",
   "metadata": {
    "id": "M1YCZ-nI-Yqg"
   },
   "source": [
    "La salida anterior es el coeficiente de determinación del modelo arrojado por el algoritmo, así como el error cuadrático medio."
   ]
  },
  {
   "cell_type": "markdown",
   "metadata": {
    "id": "_TvXkTfTFv7E"
   },
   "source": [
    "\n",
    "A continuación imprimimos la pendiente y el intercepto de la recta arrojada por el modelo."
   ]
  },
  {
   "cell_type": "code",
   "execution_count": 114,
   "metadata": {
    "colab": {
     "base_uri": "https://localhost:8080/"
    },
    "id": "jfXPca1X-mSw",
    "outputId": "158b9766-c093-4531-b9ba-374562468136"
   },
   "outputs": [
    {
     "name": "stdout",
     "output_type": "stream",
     "text": [
      "slope: 3.2451559218662904\n",
      "intercept: -5.127275910800948\n"
     ]
    }
   ],
   "source": [
    "print('slope:', regr.coef_[0])\n",
    "print('intercept:', regr.intercept_)"
   ]
  },
  {
   "cell_type": "markdown",
   "metadata": {
    "id": "SIKIBMg7_RmS"
   },
   "source": [
    "Ahora graficaremos el conjunto de testeo y la recta correspondiente al modelo en una misma gráfica."
   ]
  },
  {
   "cell_type": "code",
   "execution_count": 115,
   "metadata": {
    "colab": {
     "base_uri": "https://localhost:8080/",
     "height": 522
    },
    "id": "juhbsrCdcUKI",
    "outputId": "95ebff0c-d748-407e-a13c-87eeb3d8eb66"
   },
   "outputs": [
    {
     "data": {
      "image/png": "[encoded data removed]",
      "text/plain": [
       "<Figure size 1000x600 with 1 Axes>"
      ]
     },
     "metadata": {},
     "output_type": "display_data"
    }
   ],
   "source": [
    "y_pred = regr.predict(X_test)\n",
    "\n",
    "plt.figure(figsize=(10,6))\n",
    "plt.scatter(X_test, y_test, color ='g')\n",
    "plt.plot(X_test, y_pred, color ='k')\n",
    "plt.show()"
   ]
  },
  {
   "cell_type": "markdown",
   "metadata": {
    "id": "4BvJnaSlCU04"
   },
   "source": [
    "## Su turno"
   ]
  },
  {
   "cell_type": "markdown",
   "metadata": {
    "id": "fWQKeU51-W_P"
   },
   "source": [
    "\n",
    "1. Bosquejar en la misma gráfica el diagrama de dispersión de (Lenght1,Weight) en color verde y el diagrama de dispersión para (Width, Weight) en color azul. Para esto sólo se requiere añadir al código dos líneas seguidas del tipo: plt.scatter(data=df, x=___, y=___, color= ___)\n",
    "\n",
    "2. ¿Cuál modelo tendrá una pendiente mayor?\n",
    "3. Entrenar un modelo de regresión lineal para predecir el peso (Weight), usando la variable Width.\n",
    "4. ¿Cuál tiene mayor Coeficiente de determinación? ¿por qué cree que esto ocurre?"
   ]
  },
  {
   "cell_type": "code",
   "execution_count": 116,
   "metadata": {},
   "outputs": [
    {
     "data": {
      "text/plain": [
       "<matplotlib.collections.PathCollection at 0x20cbc5fef20>"
      ]
     },
     "execution_count": 116,
     "metadata": {},
     "output_type": "execute_result"
    },
    {
     "data": {
      "image/png": "[encoded data removed]",
      "text/plain": [
       "<Figure size 800x600 with 1 Axes>"
      ]
     },
     "metadata": {},
     "output_type": "display_data"
    }
   ],
   "source": [
    "#Graficar diagrama de dispersión para Length1 vs Weight\n",
    "plt.figure(figsize = [8, 6]) #Establecemos el tamaño de la figura\n",
    "plt.scatter(data=df, x='Length1', y='Weight', color= \"green\") \n",
    "plt.scatter(data=df, x='Width', y='Weight', color= \"blue\") \n"
   ]
  },
  {
   "cell_type": "markdown",
   "metadata": {},
   "source": [
    "### Pregunta 2\n",
    "#### ¿Cuál modelo tendrá una pendiente mayor?\n",
    "\n",
    "la pendiente para los datos de Width y Weight será mayor"
   ]
  },
  {
   "cell_type": "markdown",
   "metadata": {},
   "source": [
    "### Pregunta 3\n",
    "Entrenar un modelo de regresión lineal para predecir el peso (Weight), usando la variable Width."
   ]
  },
  {
   "cell_type": "code",
   "execution_count": 117,
   "metadata": {},
   "outputs": [],
   "source": [
    "X2 = np.array(df['Width']).reshape(-1, 1)\n",
    "y = df['Weight']\n",
    "\n",
    "X_train2, X_test2, y_train2, y_test2 = train_test_split(X2, y, test_size = 0.2)"
   ]
  },
  {
   "cell_type": "code",
   "execution_count": 118,
   "metadata": {},
   "outputs": [
    {
     "name": "stdout",
     "output_type": "stream",
     "text": [
      "score =  0.695394214054641\n",
      "MSE =  39779.02357647895\n"
     ]
    }
   ],
   "source": [
    "regre2 = LinearRegression()\n",
    "\n",
    "regre2.fit(X_train2, y_train2)\n",
    "y_pred2 = regre2.predict(X_test2)\n",
    "\n",
    "print(\"score = \", r2_score(y_test2, y_pred2))\n",
    "print(\"MSE = \", mean_squared_error(y_test2, y_pred2))"
   ]
  },
  {
   "cell_type": "code",
   "execution_count": 119,
   "metadata": {},
   "outputs": [
    {
     "name": "stdout",
     "output_type": "stream",
     "text": [
      "slope: 191.0326783983477\n",
      "intercept: -441.583670306244\n"
     ]
    }
   ],
   "source": [
    "print('slope:', regre2.coef_[0])\n",
    "print('intercept:', regre2.intercept_)"
   ]
  },
  {
   "cell_type": "code",
   "execution_count": 120,
   "metadata": {
    "scrolled": true
   },
   "outputs": [
    {
     "data": {
      "image/png": "[encoded data removed]",
      "text/plain": [
       "<Figure size 1000x600 with 1 Axes>"
      ]
     },
     "metadata": {},
     "output_type": "display_data"
    }
   ],
   "source": [
    "plt.figure(figsize=(10,6))\n",
    "plt.scatter(X_test2, y_test2, color ='b')\n",
    "plt.plot(X_test2, y_pred2, color ='k')\n",
    "plt.show()"
   ]
  },
  {
   "cell_type": "markdown",
   "metadata": {},
   "source": [
    "### ¿Cuál tiene mayor Coeficiente de determinación? ¿por qué cree que esto ocurre?\n"
   ]
  },
  {
   "cell_type": "markdown",
   "metadata": {},
   "source": [
    "el primer modelo que usa la variable \"lenght1\" para predecir el \"weight\" nos da un mayor R2 que el segundo modelo que usamos la variable \"width\" para predecir el \"weight\", esto quiere decir que la variable \"lenght1\" es un mejor predictor para \"weight\" "
   ]
  },
  {
   "cell_type": "markdown",
   "metadata": {
    "id": "SvhH6IUmClJg"
   },
   "source": [
    "## Las dos formas de hacer regresión lineal"
   ]
  },
  {
   "cell_type": "markdown",
   "metadata": {
    "id": "Z-wtRIFdCr84"
   },
   "source": [
    "En clase vimos que hay dos formas de lograr un modelo de regresión lineal. La primera es calculando el vector de parámetros que minimice la función de error, mediante derivadas. Vimos una fórmula para dicho mínimo. Éste es el método de usa el algoritmo *LinearRegression* de SKLearn.\n",
    "\n",
    "Sin embargo, vimos también que hay otra forma de encontrar dicho mínimo y es mediante el algoritmo del decenso de gradiente. (¿Recuerda la ventaja o desventaja de cada uno?, si o las recuerda, será mejor investigarlas)."
   ]
  },
  {
   "cell_type": "markdown",
   "metadata": {
    "id": "l0tAK3miD1oZ"
   },
   "source": [
    "Vamos a considerar un conjunto de datos muy simple: las cuatro esquinas de un cuadrado."
   ]
  },
  {
   "cell_type": "code",
   "execution_count": 121,
   "metadata": {
    "id": "jY90CxK8CrD2"
   },
   "outputs": [
    {
     "data": {
      "image/png": "[encoded data removed]",
      "text/plain": [
       "<Figure size 640x480 with 1 Axes>"
      ]
     },
     "metadata": {},
     "output_type": "display_data"
    }
   ],
   "source": [
    "x = np.array([0, 0, 1, 1])\n",
    "y = np.array([0, 1, 0, 1])\n",
    "plt.scatter(x, y, color = 'red')\n",
    "X = x.reshape(-1, 1)\n"
   ]
  },
  {
   "cell_type": "markdown",
   "metadata": {
    "id": "wiHYQnQxERYn"
   },
   "source": [
    "Podemos aplicar el algoritmo *LinearRegression* para intentar modelar linealmente este conunto de datos.\n",
    "\n",
    "**Ojo:** Tenga presentes dos cosas.\n",
    "-  Recuerde que LinearRegression recibe como datos de entrada un arreglo 2-dimensional, por lo cual debe redimensionar sus datos.\n",
    "- Al ser tan pocos datos, no separaremos en *train* y *test*. Símplemente entrenaremos el modelo usando *X*, *y* en lugar de *X_train*, *y_train*.\n"
   ]
  },
  {
   "cell_type": "markdown",
   "metadata": {
    "id": "757bX35nEqCG"
   },
   "source": [
    "### Ejercicio"
   ]
  },
  {
   "cell_type": "markdown",
   "metadata": {
    "id": "Wp5xdthhUjxZ"
   },
   "source": [
    "4. De acuerdo a lo visto en clase, cuál intuye que sería la recta que arrojaría este algoritmo como modelo de regresión lineal? ¿Por qué?\n",
    "5. Use *LinearRegression* de SKLearn para calcular dicho modelo. Calcule su coeficiente de determinación.\n",
    "6. ¿Observa algo particular en el coeficiente de determinación? Explique ka razón de dicho valor."
   ]
  },
  {
   "cell_type": "markdown",
   "metadata": {},
   "source": [
    "### De acuerdo a lo visto en clase, cuál intuye que sería la recta que arrojaría este algoritmo como modelo de regresión lineal? ¿Por qué?\n",
    "\n",
    "4) En principio diría que una constante en y=0.5 dado que esos puntos no son una función y pensaria que si se hace el ajuste de curva la constante en 0.5 es el promedio exacto de cada punto a la recta"
   ]
  },
  {
   "cell_type": "code",
   "execution_count": 122,
   "metadata": {},
   "outputs": [
    {
     "name": "stdout",
     "output_type": "stream",
     "text": [
      "score = 0.0\n",
      "MSE = 0.25\n"
     ]
    }
   ],
   "source": [
    "# 5)\n",
    "regr3 = LinearRegression()\n",
    "regr3.fit(X,y)\n",
    "y_pred3 = regr3.predict(X)\n",
    "\n",
    "print('score =', r2_score(y,y_pred3) )\n",
    "print('MSE =', mean_squared_error(y, y_pred3))"
   ]
  },
  {
   "cell_type": "code",
   "execution_count": 123,
   "metadata": {},
   "outputs": [
    {
     "data": {
      "image/png": "[encoded data removed]",
      "text/plain": [
       "<Figure size 1000x600 with 1 Axes>"
      ]
     },
     "metadata": {},
     "output_type": "display_data"
    }
   ],
   "source": [
    "plt.figure(figsize=(10,6))\n",
    "plt.scatter(X, y, color ='b')\n",
    "plt.plot(X, y_pred3, color ='k')\n",
    "plt.show()"
   ]
  },
  {
   "cell_type": "markdown",
   "metadata": {},
   "source": [
    "6) si el score es 0 y como podemos comprobar en la gráfica este modelo no le importan mis datos en X, lo que quiere decir que mi variable X no me sirve para predecir mi variable y, y es independiente de X. "
   ]
  },
  {
   "cell_type": "markdown",
   "metadata": {
    "id": "iFJygN8ARIZT"
   },
   "source": [
    "### Ejercicio: Ahora con decenso de gradiente"
   ]
  },
  {
   "cell_type": "markdown",
   "metadata": {
    "id": "UMaffF5cRTxU"
   },
   "source": [
    "Podemos entrenar un modelo de regresión lineal utilizando el decenso de gradiente. Existe un algoritmo en SKLearn que hace eso: *SGDRegressor*. Investigue un poco sobre este algoritmo y sus parámetros.\n",
    "\n",
    "7. Entrene un algoritmo de regresión lineal usando SGDRegressor. En dicho entrenamiento, utilice en primer lugar los parámetros:\n",
    "- learning_rate='constant'\n",
    "- eta0=0.01, max_iter=10000\n",
    "- tol=1e-3\n",
    "- random_state=0\n",
    "\n",
    "8. Compare el resultado con el de *LinearRegressor*. ¿Cuál dio mejor resultado? ¿Por qué?¿Convendría siempre utilizar el algoritmo que dió mejor resultado?\n",
    "\n",
    "9. Experimente con diferentes valores de los parámetros de SGDRegressor. Qué concluye acerca del efecto de variar dichos parámetros?\n",
    "\n",
    "10. Escriba algunas conclusiones generales del ejercicio."
   ]
  },
  {
   "cell_type": "code",
   "execution_count": 124,
   "metadata": {
    "id": "ncI4wyK5PqKh"
   },
   "outputs": [],
   "source": [
    "from sklearn.linear_model import SGDRegressor\n",
    "import numpy as np"
   ]
  },
  {
   "cell_type": "code",
   "execution_count": 139,
   "metadata": {},
   "outputs": [],
   "source": [
    "X_GD = np.log1p(np.array(df['Length1']).reshape(-1, 1))# aplicamos un re escalado con un log para poder realizar bien la \n",
    "#predicción\n",
    "y_GD = np.log1p(df['Weight'])\n",
    "\n",
    "\n",
    "XGD_train, XGD_test, yGD_train, yGD_test = train_test_split(X_GD, y_GD, test_size = 0.2, random_state=42)"
   ]
  },
  {
   "cell_type": "code",
   "execution_count": 140,
   "metadata": {},
   "outputs": [
    {
     "name": "stdout",
     "output_type": "stream",
     "text": [
      "MSE = 0.23534960211513906\n",
      "score = 0.8998256889720315\n"
     ]
    }
   ],
   "source": [
    "regreSGD = SGDRegressor(loss='squared_error', learning_rate='constant',tol=1e-3 ,eta0=0.1, max_iter=10000, random_state=0)\n",
    "\n",
    "regreSGD.fit(XGD_train, yGD_train)\n",
    "\n",
    "yGD_predict = regreSGD.predict(XGD_test)\n",
    "\n",
    "mse = mean_squared_error(yGD_test, yGD_predict)\n",
    "score_GD = r2_score(yGD_test, yGD_predict)\n",
    "\n",
    "print('MSE =', mse)\n",
    "print('score =', score_GD)"
   ]
  },
  {
   "cell_type": "code",
   "execution_count": 127,
   "metadata": {},
   "outputs": [
    {
     "data": {
      "text/plain": [
       "<function matplotlib.pyplot.show(close=None, block=None)>"
      ]
     },
     "execution_count": 127,
     "metadata": {},
     "output_type": "execute_result"
    },
    {
     "data": {
      "image/png": "[encoded data removed]",
      "text/plain": [
       "<Figure size 1000x600 with 1 Axes>"
      ]
     },
     "metadata": {},
     "output_type": "display_data"
    }
   ],
   "source": [
    "plt.figure(figsize=(10,6))\n",
    "plt.scatter(XGD_test, yGD_test, color='b')\n",
    "plt.plot(XGD_test, yGD_predict, color='k')\n",
    "plt.show"
   ]
  },
  {
   "cell_type": "code",
   "execution_count": null,
   "metadata": {},
   "outputs": [],
   "source": []
  },
  {
   "cell_type": "code",
   "execution_count": 110,
   "metadata": {},
   "outputs": [
    {
     "data": {
      "image/png": "[encoded data removed]",
      "text/plain": [
       "<Figure size 640x480 with 1 Axes>"
      ]
     },
     "metadata": {},
     "output_type": "display_data"
    }
   ],
   "source": [
    "\n",
    "\n",
    "modelos = ['Regresión Lineal', 'Gradiente Decendiente']\n",
    "scores = [score_RL, score_GD]\n",
    "\n",
    "plt.bar(modelos, scores, color=['blue', 'green'])\n",
    "plt.xlabel('Modelos')\n",
    "plt.ylabel('R^2')\n",
    "plt.title('Puntajes de los Modelos')\n",
    "plt.ylim(0, 1)  # Ajusta los límites del eje y si es necesario\n",
    "\n",
    "# Agrega etiquetas encima de las barras\n",
    "for i in range(len(modelos)):\n",
    "    plt.text(i, scores[i] + 0.01, f'{scores[i]:.2f}', ha='center')\n",
    "\n",
    "plt.show()\n"
   ]
  },
  {
   "cell_type": "markdown",
   "metadata": {},
   "source": [
    "## 8. Compare el resultado con el de LinearRegressor. ¿Cuál dio mejor resultado? ¿Por qué?¿Convendría siempre utilizar el algoritmo que dió mejor resultado?\n",
    "\n",
    "\n",
    "En términos de la métrica R^2, el modelo de Gradiente Descendente demostró un mejor desempeño, lo que lo posiciona como el modelo superior. Sin embargo, es importante señalar que basarse únicamente en el coeficiente de determinación (R^2) no es suficiente.\n",
    "\n",
    "¿Por qué el modelo de Gradiente Descendente obtuvo un mejor R^2? Hubo un cuidadoso proceso de ajuste y preparación de datos. Para lograr una ejecución precisa del Gradiente Descendente, fue necesario aplicar una escala logarítmica a los datos. Además, se observó que el parámetro 'learning_rate' establecido en 'optimal' no lograba ajustar la recta a los datos. Estos detalles adicionales de ajuste no se aplicaron en el primer modelo de regresión. Lo que subraya la influencia crítica de los hiperparámetros y las técnicas de preprocesamiento en el rendimiento del modelo.\n",
    "\n",
    "Sin embargo, no es aconsejable adoptar ciegamente el algoritmo que arroje los mejores resultados en una única métrica. La elección del algoritmo debe considerar tanto el rendimiento como el contexto. Los resultados pueden variar según los datos y los hiperparámetros utilizados. En el caso del Gradiente Descendente, su rendimiento se benefició de técnicas avanzadas, pero esto no lo convierte automáticamente en la elección correcta en todos los casos. Debe sopesarse la precisión frente a la flexibilidad, así como otros factores como la interpretación, la velocidad y la capacidad de manejar problemas específicos.\n",
    "\n",
    "En resumen, mientras que el modelo de Gradiente Descendente obtuvo un mejor R^2 en este contexto particular, tomar decisiones informadas implica comprender las particularidades del problema, los datos y las características de los algoritmos. No existe una regla universal para elegir el algoritmo siempre basado en un solo resultado."
   ]
  },
  {
   "cell_type": "markdown",
   "metadata": {},
   "source": [
    "\n",
    "## Experimente con diferentes valores de los parámetros de SGDRegressor. Qué concluye acerca del efecto de variar dichos parámetros?\n",
    "\n",
    "Inicialmente, se añadió el parámetro loss = 'square_error', lo cual no tuvo un impacto significativo en los resultados del modelo. Posteriormente, se modificó el parámetro learning_rate = 'optimal', lo que causó que el modelo se desviara drásticamente de los resultados previamente observados. No solo se basó en la evaluación gráfica, sino que también se reflejó en el puntaje (score) con un valor de -1.3043159727888425e+24 y el error cuadrático medio (MSE) con un valor de 3.064360933239351e+24, lo que llevó a la conclusión de que este parámetro no contribuirá al rendimiento del modelo.\n",
    "\n",
    "Posteriormente, se ajustó el parámetro eta0 = 0.1, lo que resultó en un aumento en el puntaje (score) del modelo, pasando de 0.85 a 0.89. Además, se observó una disminución significativa en el MSE. La importancia del parámetro random_state fue evidente, ya que al modificarlo tanto en la división de datos como en el modelo, se produjeron cambios drásticos en el puntaje y el MSE.\n",
    "\n",
    "En resumen, la experimentación con diferentes valores de los parámetros del SGDRegressor reveló la influencia crucial de estos en el rendimiento del modelo. Mientras que algunos parámetros como loss y learning_rate demostraron ser menos influyentes en este caso particular, otros, como eta0 y random_state, tuvieron un impacto más notable en la calidad de las predicciones. Esta experiencia subraya la importancia de ajustar cuidadosamente los hiperparámetros y explorar sus efectos en la capacidad del modelo para adaptarse a los datos y generar predicciones precisas.\n",
    "\n",
    "\n",
    "\n",
    "\n",
    "\n"
   ]
  },
  {
   "cell_type": "markdown",
   "metadata": {},
   "source": [
    "## Conclusiones\n",
    "\n",
    "\n",
    "1) En primer lugar, se pudo apreciar el proceso de aplicación de la teoría en el código, que abarca desde la selección de las variables hasta la división de los datos en conjuntos de entrenamiento y prueba. Se experimentó con la formación del modelo utilizando los datos de entrenamiento, incluyendo tanto los parámetros como las etiquetas. Además, se realizó la predicción utilizando datos de prueba y se interpretaron las relaciones del modelo con las métricas MSE y R^2.\n",
    "\n",
    "2) Se adquirió la comprensión de que no todos los parámetros predicen la variable objetivo con la misma precisión. Al experimentar con diferentes configuraciones de parámetros, se evidenció cómo algunos tienen un impacto más significativo en la capacidad del modelo para realizar predicciones precisas.\n",
    "\n",
    "3) Se observó un caso particular que se había discutido en la teoría, en el cual el valor de R^2 es igual a 0. Esto implica que la variable X no tiene influencia en el cálculo de la variable objetivo. Esta observación subraya la importancia de comprender la relación entre las variables y cómo puede afectar el rendimiento del modelo.\n",
    "\n",
    "4) Se compararon dos modelos diferentes que tenían la misma tarea, y se evaluó cuál de ellos (según las métricas establecidas) era superior. Además, se observó cómo los hiperparámetros afectan drásticamente los resultados del modelo. Este entendimiento se convierte en un valor agregado al seleccionar el \"mejor\" modelo para un conjunto de datos específico.\n",
    "\n",
    "En resumen, esta experiencia proporcionó una perspectiva más práctica y profunda de cómo aplicar la teoría en situaciones reales. Se resaltó la influencia de los parámetros en el rendimiento del modelo y la importancia de considerar múltiples aspectos al elegir el modelo más adecuado para un conjunto de datos determinado."
   ]
  },
  {
   "cell_type": "code",
   "execution_count": null,
   "metadata": {},
   "outputs": [],
   "source": []
  },
  {
   "cell_type": "code",
   "execution_count": null,
   "metadata": {},
   "outputs": [],
   "source": []
  },
  {
   "cell_type": "code",
   "execution_count": null,
   "metadata": {},
   "outputs": [],
   "source": []
  },
  {
   "cell_type": "code",
   "execution_count": null,
   "metadata": {},
   "outputs": [],
   "source": []
  },
  {
   "cell_type": "code",
   "execution_count": null,
   "metadata": {},
   "outputs": [],
   "source": []
  },
  {
   "cell_type": "code",
   "execution_count": null,
   "metadata": {},
   "outputs": [],
   "source": []
  },
  {
   "cell_type": "code",
   "execution_count": null,
   "metadata": {},
   "outputs": [],
   "source": []
  }
 ],
 "metadata": {
  "colab": {
   "provenance": []
  },
  "kernelspec": {
   "display_name": "Python 3 (ipykernel)",
   "language": "python",
   "name": "python3"
  },
  "language_info": {
   "codemirror_mode": {
    "name": "ipython",
    "version": 3
   },
   "file_extension": ".py",
   "mimetype": "text/x-python",
   "name": "python",
   "nbconvert_exporter": "python",
   "pygments_lexer": "ipython3",
   "version": "3.10.9"
  }
 },
 "nbformat": 4,
 "nbformat_minor": 1
}
